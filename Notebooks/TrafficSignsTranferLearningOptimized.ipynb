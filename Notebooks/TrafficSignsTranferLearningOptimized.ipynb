{
 "cells": [
  {
   "cell_type": "code",
   "execution_count": 2,
   "metadata": {},
   "outputs": [],
   "source": [
    "import numpy as np\n",
    "import pandas as pd\n",
    "import matplotlib.pyplot as plt#to plot accuracy\n",
    "import cv2 as cv\n",
    "\n",
    "import tensorflow as tf\n",
    "from PIL import Image\n",
    "import os\n",
    "from keras.models import Model\n",
    "from tensorflow import keras\n",
    "\n",
    "from sklearn.model_selection import train_test_split #to split training and testing data\n",
    "from tensorflow.keras.models import load_model\n",
    "from tensorflow.keras.preprocessing.image import ImageDataGenerator\n",
    "\n",
    "from keras.utils import to_categorical #to convert the labels present in y_train and t_test into one-hot encoding\n",
    "from keras.layers import Dense,  Dropout #to create CNN\n",
    "%matplotlib inline"
   ]
  },
  {
   "cell_type": "code",
   "execution_count": 85,
   "metadata": {},
   "outputs": [
    {
     "name": "stdout",
     "output_type": "stream",
     "text": [
      "(451, 30, 30, 3) (451,)\n"
     ]
    }
   ],
   "source": [
    "DATAPATH = r\"TransferLearning/\"\n",
    "\n",
    "data = []\n",
    "labels = []\n",
    "classes = 4\n",
    "cur_path = os.getcwd()\n",
    "#Retrieving the images and their labels\n",
    "for i in range(classes):\n",
    "   path = os.path.join(DATAPATH,str(i))\n",
    "   images = os.listdir(path)\n",
    "   for a in images:\n",
    "      try:\n",
    "               image = Image.open(path + '/' + a)\n",
    "               image = image.resize((30,30))\n",
    "               image = np.array(image)\n",
    "               image = image/255.0\n",
    "               #sim = Image.fromarray(image)\n",
    "               data.append(image)\n",
    "               labels.append(i)\n",
    "      except:\n",
    "               print(\"Error loading image\")\n",
    "#Converting lists into numpy arrays\n",
    "data = np.array(data)\n",
    "labels = np.array(labels)\n",
    "\n",
    "print(data.shape, labels.shape)"
   ]
  },
  {
   "cell_type": "code",
   "execution_count": 86,
   "metadata": {},
   "outputs": [
    {
     "name": "stdout",
     "output_type": "stream",
     "text": [
      "(360, 30, 30, 3) (91, 30, 30, 3) (360,) (91,)\n"
     ]
    }
   ],
   "source": [
    "#Splitting training and testing dataset\n",
    "x_train, x_test, y_train, y_test = train_test_split(data, labels, test_size=0.20, random_state=42)\n",
    "print(x_train.shape, x_test.shape, y_train.shape, y_test.shape)"
   ]
  },
  {
   "cell_type": "code",
   "execution_count": 87,
   "metadata": {},
   "outputs": [],
   "source": [
    "#Converting the labels into one hot encoding\n",
    "y_train = to_categorical(y_train, 4)\n",
    "y_test = to_categorical(y_test, 4)"
   ]
  },
  {
   "cell_type": "code",
   "execution_count": 122,
   "metadata": {},
   "outputs": [],
   "source": [
    "image_generator = ImageDataGenerator(\n",
    "                                        rotation_range=22,\n",
    "                                        width_shift_range=0.15,\n",
    "                                        height_shift_range=0.15,\n",
    "                                        horizontal_flip=True,\n",
    "                                        brightness_range=[0.2,1.0],\n",
    "                                        zoom_range=[0.2,0.8],\n",
    "                                        featurewise_center=True,\n",
    "                                        featurewise_std_normalization=True,\n",
    "                                        )\n",
    "\n",
    "image_generator.fit(x_train)"
   ]
  },
  {
   "cell_type": "code",
   "execution_count": 123,
   "metadata": {},
   "outputs": [],
   "source": [
    "from keras.models import load_model\n",
    "model = load_model(\"traffic_classifier_prueba.h5\")"
   ]
  },
  {
   "cell_type": "code",
   "execution_count": 129,
   "metadata": {},
   "outputs": [],
   "source": [
    "for i in range(0,6):\n",
    "    model.layers[i].trainable = False"
   ]
  },
  {
   "cell_type": "code",
   "execution_count": 130,
   "metadata": {},
   "outputs": [],
   "source": [
    "for i in range(7,7):\n",
    "    model.layers[i].trainable = True"
   ]
  },
  {
   "cell_type": "code",
   "execution_count": 131,
   "metadata": {},
   "outputs": [],
   "source": [
    "addl = model.layers[8].output\n",
    "addl = Dense(32)(addl)\n",
    "addl = Dense(16,activation='relu')(addl)\n",
    "addl = Dense(16,activation='relu')(addl)\n",
    "adll = Dropout(0.25)(addl)\n",
    "addl = Dense(8,activation='relu')(addl)\n",
    "addl = Dense(8,activation='relu')(addl)\n",
    "adll = Dropout(0.5)(addl)\n",
    "addl = Dense(8,activation='relu')(addl)\n",
    "addl = Dense(4,activation=\"softmax\")(addl)\n",
    "\n",
    "new_model = Model(inputs=model.input,outputs=addl)"
   ]
  },
  {
   "cell_type": "code",
   "execution_count": 132,
   "metadata": {},
   "outputs": [
    {
     "name": "stdout",
     "output_type": "stream",
     "text": [
      "Model: \"model_10\"\n",
      "_________________________________________________________________\n",
      " Layer (type)                Output Shape              Param #   \n",
      "=================================================================\n",
      " conv2d_12_input (InputLayer  [(None, 30, 30, 3)]      0         \n",
      " )                                                               \n",
      "                                                                 \n",
      " conv2d_12 (Conv2D)          (None, 26, 26, 32)        2432      \n",
      "                                                                 \n",
      " conv2d_13 (Conv2D)          (None, 22, 22, 32)        25632     \n",
      "                                                                 \n",
      " max_pooling2d_6 (MaxPooling  (None, 11, 11, 32)       0         \n",
      " 2D)                                                             \n",
      "                                                                 \n",
      " dropout_9 (Dropout)         (None, 11, 11, 32)        0         \n",
      "                                                                 \n",
      " conv2d_14 (Conv2D)          (None, 9, 9, 64)          18496     \n",
      "                                                                 \n",
      " conv2d_15 (Conv2D)          (None, 7, 7, 64)          36928     \n",
      "                                                                 \n",
      " max_pooling2d_7 (MaxPooling  (None, 3, 3, 64)         0         \n",
      " 2D)                                                             \n",
      "                                                                 \n",
      " dropout_10 (Dropout)        (None, 3, 3, 64)          0         \n",
      "                                                                 \n",
      " flatten_3 (Flatten)         (None, 576)               0         \n",
      "                                                                 \n",
      " dense_61 (Dense)            (None, 32)                18464     \n",
      "                                                                 \n",
      " dense_62 (Dense)            (None, 16)                528       \n",
      "                                                                 \n",
      " dense_63 (Dense)            (None, 16)                272       \n",
      "                                                                 \n",
      " dense_64 (Dense)            (None, 8)                 136       \n",
      "                                                                 \n",
      " dense_65 (Dense)            (None, 8)                 72        \n",
      "                                                                 \n",
      " dense_66 (Dense)            (None, 8)                 72        \n",
      "                                                                 \n",
      " dense_67 (Dense)            (None, 4)                 36        \n",
      "                                                                 \n",
      "=================================================================\n",
      "Total params: 103,068\n",
      "Trainable params: 19,580\n",
      "Non-trainable params: 83,488\n",
      "_________________________________________________________________\n"
     ]
    }
   ],
   "source": [
    "new_model.compile(loss='categorical_crossentropy', optimizer='adam', metrics=['acc'])\n",
    "\n",
    "new_model.summary()"
   ]
  },
  {
   "cell_type": "code",
   "execution_count": 133,
   "metadata": {},
   "outputs": [
    {
     "name": "stdout",
     "output_type": "stream",
     "text": [
      "Epoch 1/20\n",
      "45/45 [==============================] - 1s 5ms/step - loss: 1.3767 - acc: 0.5778\n",
      "Epoch 2/20\n",
      "45/45 [==============================] - 0s 4ms/step - loss: 1.3674 - acc: 0.4778\n",
      "Epoch 3/20\n",
      "45/45 [==============================] - 0s 5ms/step - loss: 1.3597 - acc: 0.4889\n",
      "Epoch 4/20\n",
      "45/45 [==============================] - 0s 5ms/step - loss: 1.3536 - acc: 0.4778\n",
      "Epoch 5/20\n",
      "45/45 [==============================] - 0s 5ms/step - loss: 1.3380 - acc: 0.5333\n",
      "Epoch 6/20\n",
      "45/45 [==============================] - 0s 5ms/step - loss: 1.3172 - acc: 0.5556\n",
      "Epoch 7/20\n",
      "45/45 [==============================] - 0s 5ms/step - loss: 1.3329 - acc: 0.4556\n",
      "Epoch 8/20\n",
      "45/45 [==============================] - 0s 5ms/step - loss: 1.3195 - acc: 0.4778\n",
      "Epoch 9/20\n",
      "45/45 [==============================] - 0s 5ms/step - loss: 1.3311 - acc: 0.4222\n",
      "Epoch 10/20\n",
      "45/45 [==============================] - 0s 5ms/step - loss: 1.2877 - acc: 0.5222\n",
      "Epoch 11/20\n",
      "45/45 [==============================] - 0s 5ms/step - loss: 1.3021 - acc: 0.4889\n",
      "Epoch 12/20\n",
      "45/45 [==============================] - 0s 5ms/step - loss: 1.2896 - acc: 0.5111\n",
      "Epoch 13/20\n",
      "45/45 [==============================] - 0s 6ms/step - loss: 1.2813 - acc: 0.5111\n",
      "Epoch 14/20\n",
      "45/45 [==============================] - 0s 6ms/step - loss: 1.2952 - acc: 0.4667\n",
      "Epoch 15/20\n",
      "45/45 [==============================] - 0s 6ms/step - loss: 1.2480 - acc: 0.5333\n",
      "Epoch 16/20\n",
      "45/45 [==============================] - 0s 5ms/step - loss: 1.2829 - acc: 0.4778\n",
      "Epoch 17/20\n",
      "45/45 [==============================] - 0s 7ms/step - loss: 1.2810 - acc: 0.4889\n",
      "Epoch 18/20\n",
      "45/45 [==============================] - 0s 7ms/step - loss: 1.2781 - acc: 0.4778\n",
      "Epoch 19/20\n",
      "45/45 [==============================] - 0s 7ms/step - loss: 1.2861 - acc: 0.4333\n",
      "Epoch 20/20\n",
      "45/45 [==============================] - 0s 6ms/step - loss: 1.2035 - acc: 0.6111\n"
     ]
    }
   ],
   "source": [
    "#train the model\n",
    "with tf.device('/GPU:0'):\n",
    "    epochs = 20\n",
    "    history = new_model.fit(image_generator.flow(x_train, y_train, batch_size=2),\n",
    "          steps_per_epoch=len(x_train) / 8, epochs=epochs)"
   ]
  },
  {
   "cell_type": "code",
   "execution_count": 134,
   "metadata": {},
   "outputs": [],
   "source": [
    "new_model.save('transfer_learning_modelo_optimizado.h5')"
   ]
  },
  {
   "cell_type": "markdown",
   "metadata": {},
   "source": [
    "TESTING DATA"
   ]
  },
  {
   "cell_type": "code",
   "execution_count": 135,
   "metadata": {},
   "outputs": [],
   "source": [
    "model = load_model('transfer_learning_modelo_optimizado.h5')"
   ]
  },
  {
   "cell_type": "code",
   "execution_count": 136,
   "metadata": {},
   "outputs": [],
   "source": [
    "import cv2 as cv\n",
    "from statistics import mode"
   ]
  },
  {
   "cell_type": "code",
   "execution_count": 137,
   "metadata": {},
   "outputs": [
    {
     "name": "stdout",
     "output_type": "stream",
     "text": [
      "2\n"
     ]
    }
   ],
   "source": [
    "cropped = r\"TransferLearning/Valid/1/9.png\"\n",
    "img = cv.imread(cropped)\n",
    "#plt.imshow(img)\n",
    "\n",
    "imgGray=cv.cvtColor(img, cv.COLOR_BGR2GRAY)\n",
    "imgGray = cv.medianBlur(imgGray, 5)\n",
    "print(imgGray.ndim)\n",
    "img_copy = imgGray.copy()\n",
    "rows = img_copy.shape[0]\n",
    "\n",
    "circles = cv.HoughCircles(img_copy,cv.HOUGH_GRADIENT,1,rows/8, \n",
    "                         \t\tparam1 = 50, param2 = 45, \n",
    "                         \t\tminRadius = 50, maxRadius = 150)\n",
    "\n",
    "if circles is not None:\t\t#Condicional - si detecta circulos\n",
    "        circles = np.uint16(np.around(circles))\n",
    "        for i in circles[0, :]:\n",
    "            cy = i[0]\n",
    "            cyv = cy\n",
    "            for j in circles[0, :]:\n",
    "                cx = j[1]\n",
    "                center = (cx, cyv) \t\n",
    "                radius = j[2]\n",
    "                minrec = (cx - radius, cyv - radius)\n",
    "                maxrec = (cx + radius, cyv + radius)\n",
    "            \n",
    "                print(circles)\n",
    "                #plt.imshow(frame)\n",
    "\n",
    "                frame = (img[(cx-radius-15):(cx+radius+15),(cyv-radius-15):(cyv+radius+15)])\n",
    "                #plt.imshow(img)\n",
    "\n",
    "\n",
    "                frameNN = cv.resize(frame,(30,30))\n",
    "\n",
    "                tests = []\n",
    "                tests.append(np.array(frameNN))\n",
    "                X = np.array(tests)\n",
    "\n",
    "                pred = np.argmax(model.predict(X))\n",
    "                #preds = []\n",
    "                #preds = preds.append(pred)\n",
    "                #print(preds)\n",
    "\n",
    "                #predfinal = mode(preds)\n",
    "                print(\"El número de la señal de tránsito es: \", pred)\n",
    "\n",
    "                plt.imshow(frame)"
   ]
  },
  {
   "cell_type": "code",
   "execution_count": null,
   "metadata": {},
   "outputs": [],
   "source": []
  }
 ],
 "metadata": {
  "kernelspec": {
   "display_name": "Python 3.9.12 64-bit (microsoft store)",
   "language": "python",
   "name": "python3"
  },
  "language_info": {
   "codemirror_mode": {
    "name": "ipython",
    "version": 3
   },
   "file_extension": ".py",
   "mimetype": "text/x-python",
   "name": "python",
   "nbconvert_exporter": "python",
   "pygments_lexer": "ipython3",
   "version": "3.9.12"
  },
  "orig_nbformat": 4,
  "vscode": {
   "interpreter": {
    "hash": "28037537d0a17cdb88499018668b91e46562e2585e6ebf514cc73c9a1d28ca8f"
   }
  }
 },
 "nbformat": 4,
 "nbformat_minor": 2
}
