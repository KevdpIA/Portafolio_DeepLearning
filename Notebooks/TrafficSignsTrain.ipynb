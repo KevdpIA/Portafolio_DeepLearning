{
 "cells": [
  {
   "cell_type": "markdown",
   "id": "601b2309",
   "metadata": {},
   "source": [
    "## Traffic Signs Train in a Neural Network\n",
    "\n",
    "- Kevin Joan Delgado Pérez A01706328"
   ]
  },
  {
   "cell_type": "code",
   "execution_count": 2,
   "id": "183db241",
   "metadata": {},
   "outputs": [],
   "source": [
    "import numpy as np\n",
    "import pandas as pd\n",
    "import matplotlib.pyplot as plt\n",
    "import cv2 as cv\n",
    "\n",
    "import tensorflow as tf\n",
    "from PIL import Image\n",
    "import os\n",
    "\n",
    "from sklearn.model_selection import train_test_split\n",
    "from tensorflow.keras.models import load_model\n",
    "\n",
    "from keras.utils import to_categorical\n",
    "from keras.models import Sequential\n",
    "from keras.layers import Conv2D, MaxPool2D, Dense, Flatten, Dropout\n",
    "%matplotlib inline"
   ]
  },
  {
   "cell_type": "markdown",
   "id": "35c1d245",
   "metadata": {},
   "source": [
    "- Extraer las bases de datos"
   ]
  },
  {
   "cell_type": "code",
   "execution_count": 2,
   "id": "b3896ddf",
   "metadata": {},
   "outputs": [
    {
     "name": "stdout",
     "output_type": "stream",
     "text": [
      "(39209, 30, 30, 3) (39209,)\n"
     ]
    }
   ],
   "source": [
    "DATAPATH = r\"Train/\"\n",
    "\n",
    "data = []\n",
    "labels = []\n",
    "classes = 43\n",
    "cur_path = os.getcwd()\n",
    "#Retrieving the images and their labels\n",
    "for i in range(classes):\n",
    "   path = os.path.join(DATAPATH,str(i))\n",
    "   images = os.listdir(path)\n",
    "   for a in images:\n",
    "      try:\n",
    "               image = Image.open(path + '/' + a)\n",
    "               image = image.resize((30,30))\n",
    "               image = np.array(image)\n",
    "               #sim = Image.fromarray(image)\n",
    "               data.append(image)\n",
    "               labels.append(i)\n",
    "      except:\n",
    "               print(\"Error loading image\")\n",
    "#Converting lists into numpy arrays\n",
    "data = np.array(data)\n",
    "labels = np.array(labels)\n",
    "\n",
    "print(data.shape, labels.shape)"
   ]
  },
  {
   "cell_type": "markdown",
   "id": "dbefaa63",
   "metadata": {},
   "source": [
    "- Desplegar la información de los primero datos"
   ]
  },
  {
   "cell_type": "code",
   "execution_count": 9,
   "id": "4348519c",
   "metadata": {},
   "outputs": [
    {
     "name": "stdout",
     "output_type": "stream",
     "text": [
      "(31367, 30, 30, 3) (7842, 30, 30, 3) (31367,) (7842,)\n"
     ]
    }
   ],
   "source": [
    "#Splitting training and testing dataset\n",
    "x_train, x_test, y_train, y_test = train_test_split(data, labels, test_size=0.2, random_state=42)\n",
    "print(x_train.shape, x_test.shape, y_train.shape, y_test.shape)"
   ]
  },
  {
   "cell_type": "code",
   "execution_count": 10,
   "id": "6c9bed68",
   "metadata": {},
   "outputs": [],
   "source": [
    "#Converting the labels into one hot encoding\n",
    "y_train = to_categorical(y_train, 43)\n",
    "y_test = to_categorical(y_test, 43)"
   ]
  },
  {
   "cell_type": "code",
   "execution_count": 18,
   "id": "ea87a153",
   "metadata": {},
   "outputs": [],
   "source": [
    "#Building the model\n",
    "\n",
    "model = Sequential()\n",
    "model.add(Conv2D(filters=32, kernel_size=(5,5), activation='relu', input_shape=(x_train.shape[1:])))\n",
    "model.add(Conv2D(filters=32, kernel_size=(5,5), activation='relu'))\n",
    "model.add(MaxPool2D(pool_size=(2, 2)))\n",
    "model.add(Dropout(rate=0.25))\n",
    "model.add(Conv2D(filters=64, kernel_size=(3, 3), activation='relu'))\n",
    "model.add(Conv2D(filters=64, kernel_size=(3, 3), activation='relu'))\n",
    "model.add(MaxPool2D(pool_size=(2, 2)))\n",
    "model.add(Dropout(rate=0.25))\n",
    "model.add(Flatten())\n",
    "model.add(Dense(256, activation='relu'))\n",
    "model.add(Dropout(rate=0.5))\n",
    "model.add(Dense(43, activation='softmax'))"
   ]
  },
  {
   "cell_type": "code",
   "execution_count": 19,
   "id": "e737e2f2",
   "metadata": {},
   "outputs": [
    {
     "name": "stdout",
     "output_type": "stream",
     "text": [
      "Model: \"sequential_3\"\n",
      "_________________________________________________________________\n",
      " Layer (type)                Output Shape              Param #   \n",
      "=================================================================\n",
      " conv2d_12 (Conv2D)          (None, 26, 26, 32)        2432      \n",
      "                                                                 \n",
      " conv2d_13 (Conv2D)          (None, 22, 22, 32)        25632     \n",
      "                                                                 \n",
      " max_pooling2d_6 (MaxPooling  (None, 11, 11, 32)       0         \n",
      " 2D)                                                             \n",
      "                                                                 \n",
      " dropout_9 (Dropout)         (None, 11, 11, 32)        0         \n",
      "                                                                 \n",
      " conv2d_14 (Conv2D)          (None, 9, 9, 64)          18496     \n",
      "                                                                 \n",
      " conv2d_15 (Conv2D)          (None, 7, 7, 64)          36928     \n",
      "                                                                 \n",
      " max_pooling2d_7 (MaxPooling  (None, 3, 3, 64)         0         \n",
      " 2D)                                                             \n",
      "                                                                 \n",
      " dropout_10 (Dropout)        (None, 3, 3, 64)          0         \n",
      "                                                                 \n",
      " flatten_3 (Flatten)         (None, 576)               0         \n",
      "                                                                 \n",
      " dense_6 (Dense)             (None, 256)               147712    \n",
      "                                                                 \n",
      " dropout_11 (Dropout)        (None, 256)               0         \n",
      "                                                                 \n",
      " dense_7 (Dense)             (None, 43)                11051     \n",
      "                                                                 \n",
      "=================================================================\n",
      "Total params: 242,251\n",
      "Trainable params: 242,251\n",
      "Non-trainable params: 0\n",
      "_________________________________________________________________\n"
     ]
    }
   ],
   "source": [
    "model.compile(loss='categorical_crossentropy', optimizer='adam', metrics=['accuracy'])\n",
    "\n",
    "model.summary()"
   ]
  },
  {
   "cell_type": "code",
   "execution_count": 21,
   "id": "60581d41",
   "metadata": {},
   "outputs": [
    {
     "name": "stdout",
     "output_type": "stream",
     "text": [
      "Epoch 1/5\n",
      "1961/1961 [==============================] - 50s 25ms/step - loss: 0.3462 - accuracy: 0.9069 - val_loss: 0.0817 - val_accuracy: 0.9773\n",
      "Epoch 2/5\n",
      "1961/1961 [==============================] - 50s 26ms/step - loss: 0.3399 - accuracy: 0.9117 - val_loss: 0.1944 - val_accuracy: 0.9468\n",
      "Epoch 3/5\n",
      "1961/1961 [==============================] - 50s 26ms/step - loss: 0.3311 - accuracy: 0.9148 - val_loss: 0.1030 - val_accuracy: 0.9708\n",
      "Epoch 4/5\n",
      "1961/1961 [==============================] - 51s 26ms/step - loss: 0.3483 - accuracy: 0.9123 - val_loss: 0.1220 - val_accuracy: 0.9661\n",
      "Epoch 5/5\n",
      "1961/1961 [==============================] - 51s 26ms/step - loss: 0.3724 - accuracy: 0.9073 - val_loss: 0.0741 - val_accuracy: 0.9796\n"
     ]
    }
   ],
   "source": [
    "#train the model\n",
    "with tf.device('/GPU:0'):\n",
    "    epochs = 5\n",
    "    history = model.fit(x_train, y_train, batch_size = 16, epochs = epochs, validation_data=(x_test, y_test))"
   ]
  },
  {
   "cell_type": "code",
   "execution_count": 22,
   "id": "ecfde0ab",
   "metadata": {},
   "outputs": [],
   "source": [
    "model.save('traffic_classifier_prueba.h5')"
   ]
  },
  {
   "cell_type": "markdown",
   "id": "eef26a44",
   "metadata": {},
   "source": [
    "### Test Images"
   ]
  },
  {
   "cell_type": "code",
   "execution_count": 5,
   "id": "c1309b0b",
   "metadata": {},
   "outputs": [],
   "source": [
    "model = load_model('traffic_classifier_prueba.h5')"
   ]
  },
  {
   "cell_type": "code",
   "execution_count": 8,
   "id": "507a37df",
   "metadata": {},
   "outputs": [
    {
     "name": "stdout",
     "output_type": "stream",
     "text": [
      "1/1 [==============================] - 0s 21ms/step\n",
      "El número de la señal de tránsito es:  33\n"
     ]
    },
    {
     "data": {
      "image/png": "[encoded data removed]",
      "text/plain": [
       "<Figure size 432x288 with 1 Axes>"
      ]
     },
     "metadata": {
      "needs_background": "light"
     },
     "output_type": "display_data"
    }
   ],
   "source": [
    "cropped = r\"test/00003.png\"\n",
    "test_img = Image.open(cropped).convert('RGB')\n",
    "plt.imshow(test_img)\n",
    "test_img = test_img.resize((30,30))\n",
    "\n",
    "tests = []\n",
    "tests.append(np.array(test_img))\n",
    "X = np.array(tests)\n",
    "\n",
    "pred = np.argmax(model.predict(X))\n",
    "print(\"El número de la señal de tránsito es: \", pred)"
   ]
  },
  {
   "cell_type": "code",
   "execution_count": null,
   "id": "999f5471",
   "metadata": {},
   "outputs": [],
   "source": []
  }
 ],
 "metadata": {
  "interpreter": {
   "hash": "28037537d0a17cdb88499018668b91e46562e2585e6ebf514cc73c9a1d28ca8f"
  },
  "kernelspec": {
   "display_name": "Python 3.9.12 64-bit (windows store)",
   "language": "python",
   "name": "python3"
  },
  "language_info": {
   "codemirror_mode": {
    "name": "ipython",
    "version": 3
   },
   "file_extension": ".py",
   "mimetype": "text/x-python",
   "name": "python",
   "nbconvert_exporter": "python",
   "pygments_lexer": "ipython3",
   "version": "3.9.12"
  }
 },
 "nbformat": 4,
 "nbformat_minor": 5
}
